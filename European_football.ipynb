{
 "cells": [
  {
   "attachments": {},
   "cell_type": "markdown",
   "metadata": {},
   "source": [
    "# Introduction:\n",
    "> The below project is build over the European soccer database to investigate the dataset\n",
    " and answer the below posed questions.\n",
    " The Dataset used here was imported from [Kaggle](https://www.kaggle.com/datasets/hugomathien/soccer)"
   ]
  },
  {
   "attachments": {},
   "cell_type": "markdown",
   "metadata": {},
   "source": [
    "# Questions:\n",
    "* What are the top 4 teams in each season\n",
    "* who is the champion of each season\n",
    "* who are the top 10 players of the time of our dataset\n",
    "* what makes a perfect player\n"
   ]
  },
  {
   "attachments": {},
   "cell_type": "markdown",
   "metadata": {},
   "source": [
    "* importing needed libraries\n",
    "* opne connection to sqlite DB"
   ]
  },
  {
   "cell_type": "code",
   "execution_count": 6,
   "metadata": {},
   "outputs": [],
   "source": [
    "import pandas as pd\n",
    "import numpy as np\n",
    "import sqlite3\n",
    "import matplotlib.pyplot as plt\n",
    "%matplotlib inline\n",
    "import seaborn as sns\n",
    "sns.set_style(\"darkgrid\")"
   ]
  },
  {
   "attachments": {},
   "cell_type": "markdown",
   "metadata": {},
   "source": [
    "# Connecting to SQLLite DB and gathering data"
   ]
  },
  {
   "cell_type": "code",
   "execution_count": 7,
   "metadata": {},
   "outputs": [],
   "source": [
    "\"\"\"\n",
    "Load Data from Sqlite DB to pandas DF\n",
    "Args:\n",
    "\t(str) query - the query string which should be used to retreive the dataset\n",
    "returns:\n",
    "\tdf - pandas dataframe contains the exact data that returned from the SQL query\n",
    "\"\"\"\n",
    "def load_data(query):\n",
    "\tconnection = sqlite3.connect(\"database.sqlite\")\n",
    "\tcursor = connection.cursor()\n",
    "\tcursor.execute(query)\n",
    "\tnames = [x[0] for x in cursor.description]\n",
    "\trows = cursor.fetchall()\n",
    "\tdf = pd.DataFrame(rows, columns=names)\n",
    "\tconnection.close()\n",
    "\treturn df"
   ]
  },
  {
   "cell_type": "code",
   "execution_count": 8,
   "metadata": {},
   "outputs": [],
   "source": [
    "query = '''SELECT \tC.name country,L.name league,season,stage,date,\n",
    "\t\t\t(SELECT team_long_name FROM Team T WHERE M.home_team_api_id = T.team_api_id) home_team,\n",
    "\t\t\t(SELECT team_long_name FROM Team T WHERE M.away_team_api_id = T.team_api_id) away_team,\n",
    "\t\t\thome_team_goal,away_team_goal\n",
    "\tFROM Match M, Team T, Country C, League L\n",
    "\tWHERE 1 = 1\n",
    "\tAND T.team_api_id = M.home_team_api_id\n",
    "\tAND C.id = M.country_id\n",
    "\tAND L.id = M.league_id\n",
    "\tORDER BY date,stage;'''\n",
    "df = load_data(query)"
   ]
  },
  {
   "cell_type": "markdown",
   "metadata": {},
   "source": [
    "# Data warngling"
   ]
  },
  {
   "cell_type": "code",
   "execution_count": 9,
   "metadata": {},
   "outputs": [
    {
     "data": {
      "text/plain": [
       "(25979, 9)"
      ]
     },
     "execution_count": 9,
     "metadata": {},
     "output_type": "execute_result"
    }
   ],
   "source": [
    "df.head()\n",
    "df.isnull().sum().sum()\n",
    "df.duplicated().sum()\n",
    "df.dtypes\n",
    "df.shape"
   ]
  },
  {
   "cell_type": "markdown",
   "metadata": {},
   "source": [
    "# Cleaning Data\n"
   ]
  },
  {
   "cell_type": "code",
   "execution_count": 10,
   "metadata": {},
   "outputs": [
    {
     "data": {
      "text/plain": [
       "(25979, 9)"
      ]
     },
     "execution_count": 10,
     "metadata": {},
     "output_type": "execute_result"
    }
   ],
   "source": [
    "# as we found some null values those records will be dropped.\n",
    "df.dropna(axis=0, inplace=True)\n",
    "df.shape"
   ]
  },
  {
   "cell_type": "markdown",
   "metadata": {},
   "source": [
    "# New Feature Engineering"
   ]
  },
  {
   "cell_type": "markdown",
   "metadata": {},
   "source": [
    "## Adding new columns for points earned by each team for each match"
   ]
  },
  {
   "cell_type": "code",
   "execution_count": 11,
   "metadata": {},
   "outputs": [],
   "source": [
    "df['goal_difference'] = df['home_team_goal'] - df['away_team_goal']\n",
    "# df['home_team_points'] = np.zeros((df.shape[0],1), dtype=int)\n",
    "# df['away_team_points'] = np.zeros((df.shape[0],1), dtype=int)\n",
    "df['home_team_points'] = df['goal_difference'].apply(lambda x: 3 if x > 0 else (1 if x == 0 else 0))\n",
    "df['away_team_points'] = df['goal_difference'].apply(lambda x: 3 if x < 0 else (1 if x == 0 else 0))"
   ]
  },
  {
   "cell_type": "markdown",
   "metadata": {},
   "source": [
    "# Exploratory Data Analysis"
   ]
  },
  {
   "cell_type": "markdown",
   "metadata": {},
   "source": [
    "## Calculating the aggregated points for each team per season"
   ]
  },
  {
   "cell_type": "code",
   "execution_count": 12,
   "metadata": {},
   "outputs": [],
   "source": [
    "df.head()\n",
    "home_points = df.groupby(['country', 'season', 'home_team'])['home_team_points'].sum()\n",
    "away_points = df.groupby(['country', 'season', 'away_team'])['away_team_points'].sum()\n",
    "combined_points = home_points.add(away_points)\n",
    "combined_df = pd.DataFrame(combined_points, columns=['points'])\n",
    "combined_df.reset_index(['country','home_team','season'], inplace=True)\n",
    "combined_df.rename(columns={'home_team': 'team'}, inplace=True)"
   ]
  },
  {
   "attachments": {},
   "cell_type": "markdown",
   "metadata": {},
   "source": [
    "### Building our analysis here on the premier league as it's the most competitive league in Europe\n",
    "#### Let's get the top four teams of each season in the premier league"
   ]
  },
  {
   "cell_type": "code",
   "execution_count": 13,
   "metadata": {},
   "outputs": [
    {
     "data": {
      "text/html": [
       "<div>\n",
       "<style scoped>\n",
       "    .dataframe tbody tr th:only-of-type {\n",
       "        vertical-align: middle;\n",
       "    }\n",
       "\n",
       "    .dataframe tbody tr th {\n",
       "        vertical-align: top;\n",
       "    }\n",
       "\n",
       "    .dataframe thead th {\n",
       "        text-align: right;\n",
       "    }\n",
       "</style>\n",
       "<table border=\"1\" class=\"dataframe\">\n",
       "  <thead>\n",
       "    <tr style=\"text-align: right;\">\n",
       "      <th></th>\n",
       "      <th>season</th>\n",
       "      <th>team</th>\n",
       "      <th>points</th>\n",
       "    </tr>\n",
       "  </thead>\n",
       "  <tbody>\n",
       "    <tr>\n",
       "      <th>0</th>\n",
       "      <td>2008/2009</td>\n",
       "      <td>Manchester United</td>\n",
       "      <td>90.0</td>\n",
       "    </tr>\n",
       "    <tr>\n",
       "      <th>1</th>\n",
       "      <td>2008/2009</td>\n",
       "      <td>Liverpool</td>\n",
       "      <td>86.0</td>\n",
       "    </tr>\n",
       "    <tr>\n",
       "      <th>2</th>\n",
       "      <td>2008/2009</td>\n",
       "      <td>Chelsea</td>\n",
       "      <td>83.0</td>\n",
       "    </tr>\n",
       "    <tr>\n",
       "      <th>3</th>\n",
       "      <td>2008/2009</td>\n",
       "      <td>Arsenal</td>\n",
       "      <td>72.0</td>\n",
       "    </tr>\n",
       "    <tr>\n",
       "      <th>4</th>\n",
       "      <td>2009/2010</td>\n",
       "      <td>Chelsea</td>\n",
       "      <td>86.0</td>\n",
       "    </tr>\n",
       "    <tr>\n",
       "      <th>5</th>\n",
       "      <td>2009/2010</td>\n",
       "      <td>Manchester United</td>\n",
       "      <td>85.0</td>\n",
       "    </tr>\n",
       "    <tr>\n",
       "      <th>6</th>\n",
       "      <td>2009/2010</td>\n",
       "      <td>Arsenal</td>\n",
       "      <td>75.0</td>\n",
       "    </tr>\n",
       "    <tr>\n",
       "      <th>7</th>\n",
       "      <td>2009/2010</td>\n",
       "      <td>Tottenham Hotspur</td>\n",
       "      <td>70.0</td>\n",
       "    </tr>\n",
       "    <tr>\n",
       "      <th>8</th>\n",
       "      <td>2010/2011</td>\n",
       "      <td>Manchester United</td>\n",
       "      <td>80.0</td>\n",
       "    </tr>\n",
       "    <tr>\n",
       "      <th>9</th>\n",
       "      <td>2010/2011</td>\n",
       "      <td>Chelsea</td>\n",
       "      <td>71.0</td>\n",
       "    </tr>\n",
       "    <tr>\n",
       "      <th>10</th>\n",
       "      <td>2010/2011</td>\n",
       "      <td>Manchester City</td>\n",
       "      <td>71.0</td>\n",
       "    </tr>\n",
       "    <tr>\n",
       "      <th>11</th>\n",
       "      <td>2010/2011</td>\n",
       "      <td>Arsenal</td>\n",
       "      <td>68.0</td>\n",
       "    </tr>\n",
       "    <tr>\n",
       "      <th>12</th>\n",
       "      <td>2011/2012</td>\n",
       "      <td>Manchester City</td>\n",
       "      <td>89.0</td>\n",
       "    </tr>\n",
       "    <tr>\n",
       "      <th>13</th>\n",
       "      <td>2011/2012</td>\n",
       "      <td>Manchester United</td>\n",
       "      <td>89.0</td>\n",
       "    </tr>\n",
       "    <tr>\n",
       "      <th>14</th>\n",
       "      <td>2011/2012</td>\n",
       "      <td>Arsenal</td>\n",
       "      <td>70.0</td>\n",
       "    </tr>\n",
       "    <tr>\n",
       "      <th>15</th>\n",
       "      <td>2011/2012</td>\n",
       "      <td>Tottenham Hotspur</td>\n",
       "      <td>69.0</td>\n",
       "    </tr>\n",
       "    <tr>\n",
       "      <th>16</th>\n",
       "      <td>2012/2013</td>\n",
       "      <td>Manchester United</td>\n",
       "      <td>89.0</td>\n",
       "    </tr>\n",
       "    <tr>\n",
       "      <th>17</th>\n",
       "      <td>2012/2013</td>\n",
       "      <td>Manchester City</td>\n",
       "      <td>78.0</td>\n",
       "    </tr>\n",
       "    <tr>\n",
       "      <th>18</th>\n",
       "      <td>2012/2013</td>\n",
       "      <td>Chelsea</td>\n",
       "      <td>75.0</td>\n",
       "    </tr>\n",
       "    <tr>\n",
       "      <th>19</th>\n",
       "      <td>2012/2013</td>\n",
       "      <td>Arsenal</td>\n",
       "      <td>73.0</td>\n",
       "    </tr>\n",
       "    <tr>\n",
       "      <th>20</th>\n",
       "      <td>2013/2014</td>\n",
       "      <td>Manchester City</td>\n",
       "      <td>86.0</td>\n",
       "    </tr>\n",
       "    <tr>\n",
       "      <th>21</th>\n",
       "      <td>2013/2014</td>\n",
       "      <td>Liverpool</td>\n",
       "      <td>84.0</td>\n",
       "    </tr>\n",
       "    <tr>\n",
       "      <th>22</th>\n",
       "      <td>2013/2014</td>\n",
       "      <td>Chelsea</td>\n",
       "      <td>82.0</td>\n",
       "    </tr>\n",
       "    <tr>\n",
       "      <th>23</th>\n",
       "      <td>2013/2014</td>\n",
       "      <td>Arsenal</td>\n",
       "      <td>79.0</td>\n",
       "    </tr>\n",
       "    <tr>\n",
       "      <th>24</th>\n",
       "      <td>2014/2015</td>\n",
       "      <td>Chelsea</td>\n",
       "      <td>87.0</td>\n",
       "    </tr>\n",
       "    <tr>\n",
       "      <th>25</th>\n",
       "      <td>2014/2015</td>\n",
       "      <td>Manchester City</td>\n",
       "      <td>79.0</td>\n",
       "    </tr>\n",
       "    <tr>\n",
       "      <th>26</th>\n",
       "      <td>2014/2015</td>\n",
       "      <td>Arsenal</td>\n",
       "      <td>75.0</td>\n",
       "    </tr>\n",
       "    <tr>\n",
       "      <th>27</th>\n",
       "      <td>2014/2015</td>\n",
       "      <td>Manchester United</td>\n",
       "      <td>70.0</td>\n",
       "    </tr>\n",
       "    <tr>\n",
       "      <th>28</th>\n",
       "      <td>2015/2016</td>\n",
       "      <td>Leicester City</td>\n",
       "      <td>81.0</td>\n",
       "    </tr>\n",
       "    <tr>\n",
       "      <th>29</th>\n",
       "      <td>2015/2016</td>\n",
       "      <td>Arsenal</td>\n",
       "      <td>71.0</td>\n",
       "    </tr>\n",
       "    <tr>\n",
       "      <th>30</th>\n",
       "      <td>2015/2016</td>\n",
       "      <td>Tottenham Hotspur</td>\n",
       "      <td>70.0</td>\n",
       "    </tr>\n",
       "    <tr>\n",
       "      <th>31</th>\n",
       "      <td>2015/2016</td>\n",
       "      <td>Manchester City</td>\n",
       "      <td>66.0</td>\n",
       "    </tr>\n",
       "  </tbody>\n",
       "</table>\n",
       "</div>"
      ],
      "text/plain": [
       "       season               team  points\n",
       "0   2008/2009  Manchester United    90.0\n",
       "1   2008/2009          Liverpool    86.0\n",
       "2   2008/2009            Chelsea    83.0\n",
       "3   2008/2009            Arsenal    72.0\n",
       "4   2009/2010            Chelsea    86.0\n",
       "5   2009/2010  Manchester United    85.0\n",
       "6   2009/2010            Arsenal    75.0\n",
       "7   2009/2010  Tottenham Hotspur    70.0\n",
       "8   2010/2011  Manchester United    80.0\n",
       "9   2010/2011            Chelsea    71.0\n",
       "10  2010/2011    Manchester City    71.0\n",
       "11  2010/2011            Arsenal    68.0\n",
       "12  2011/2012    Manchester City    89.0\n",
       "13  2011/2012  Manchester United    89.0\n",
       "14  2011/2012            Arsenal    70.0\n",
       "15  2011/2012  Tottenham Hotspur    69.0\n",
       "16  2012/2013  Manchester United    89.0\n",
       "17  2012/2013    Manchester City    78.0\n",
       "18  2012/2013            Chelsea    75.0\n",
       "19  2012/2013            Arsenal    73.0\n",
       "20  2013/2014    Manchester City    86.0\n",
       "21  2013/2014          Liverpool    84.0\n",
       "22  2013/2014            Chelsea    82.0\n",
       "23  2013/2014            Arsenal    79.0\n",
       "24  2014/2015            Chelsea    87.0\n",
       "25  2014/2015    Manchester City    79.0\n",
       "26  2014/2015            Arsenal    75.0\n",
       "27  2014/2015  Manchester United    70.0\n",
       "28  2015/2016     Leicester City    81.0\n",
       "29  2015/2016            Arsenal    71.0\n",
       "30  2015/2016  Tottenham Hotspur    70.0\n",
       "31  2015/2016    Manchester City    66.0"
      ]
     },
     "execution_count": 13,
     "metadata": {},
     "output_type": "execute_result"
    }
   ],
   "source": [
    "max_points = combined_df.query('country == \"England\"').groupby('season').points.nlargest(4)\n",
    "top_four = pd.DataFrame()\n",
    "# champions = pd.DataFrame()\n",
    "for s, points in max_points.index:\n",
    "    top_four = top_four.append(combined_df.iloc[points,:], ignore_index=True)\n",
    "top_four[['season', 'team', 'points']]"
   ]
  },
  {
   "cell_type": "markdown",
   "metadata": {},
   "source": [
    "# Conclusion"
   ]
  },
  {
   "attachments": {},
   "cell_type": "markdown",
   "metadata": {},
   "source": [
    "### Let's figure out:\n",
    "### how many each team appeared in the top four teams?"
   ]
  },
  {
   "cell_type": "code",
   "execution_count": 14,
   "metadata": {},
   "outputs": [
    {
     "data": {
      "image/png": "[encoded data removed]",
      "text/plain": [
       "<Figure size 432x288 with 1 Axes>"
      ]
     },
     "metadata": {},
     "output_type": "display_data"
    }
   ],
   "source": [
    "top_four['team'].value_counts().plot(kind='bar')\n",
    "plt.title('top four teams')\n",
    "plt.xlabel('team')\n",
    "plt.ylabel('number of appearance');"
   ]
  },
  {
   "cell_type": "markdown",
   "metadata": {},
   "source": [
    "## Now Let's see who is the champion of each season"
   ]
  },
  {
   "cell_type": "code",
   "execution_count": 15,
   "metadata": {},
   "outputs": [
    {
     "data": {
      "text/html": [
       "<div>\n",
       "<style scoped>\n",
       "    .dataframe tbody tr th:only-of-type {\n",
       "        vertical-align: middle;\n",
       "    }\n",
       "\n",
       "    .dataframe tbody tr th {\n",
       "        vertical-align: top;\n",
       "    }\n",
       "\n",
       "    .dataframe thead th {\n",
       "        text-align: right;\n",
       "    }\n",
       "</style>\n",
       "<table border=\"1\" class=\"dataframe\">\n",
       "  <thead>\n",
       "    <tr style=\"text-align: right;\">\n",
       "      <th></th>\n",
       "      <th>season</th>\n",
       "      <th>team</th>\n",
       "      <th>points</th>\n",
       "    </tr>\n",
       "  </thead>\n",
       "  <tbody>\n",
       "    <tr>\n",
       "      <th>0</th>\n",
       "      <td>2008/2009</td>\n",
       "      <td>Manchester United</td>\n",
       "      <td>90.0</td>\n",
       "    </tr>\n",
       "    <tr>\n",
       "      <th>4</th>\n",
       "      <td>2009/2010</td>\n",
       "      <td>Chelsea</td>\n",
       "      <td>86.0</td>\n",
       "    </tr>\n",
       "    <tr>\n",
       "      <th>8</th>\n",
       "      <td>2010/2011</td>\n",
       "      <td>Manchester United</td>\n",
       "      <td>80.0</td>\n",
       "    </tr>\n",
       "    <tr>\n",
       "      <th>12</th>\n",
       "      <td>2011/2012</td>\n",
       "      <td>Manchester City</td>\n",
       "      <td>89.0</td>\n",
       "    </tr>\n",
       "    <tr>\n",
       "      <th>13</th>\n",
       "      <td>2011/2012</td>\n",
       "      <td>Manchester United</td>\n",
       "      <td>89.0</td>\n",
       "    </tr>\n",
       "    <tr>\n",
       "      <th>16</th>\n",
       "      <td>2012/2013</td>\n",
       "      <td>Manchester United</td>\n",
       "      <td>89.0</td>\n",
       "    </tr>\n",
       "    <tr>\n",
       "      <th>20</th>\n",
       "      <td>2013/2014</td>\n",
       "      <td>Manchester City</td>\n",
       "      <td>86.0</td>\n",
       "    </tr>\n",
       "    <tr>\n",
       "      <th>24</th>\n",
       "      <td>2014/2015</td>\n",
       "      <td>Chelsea</td>\n",
       "      <td>87.0</td>\n",
       "    </tr>\n",
       "    <tr>\n",
       "      <th>28</th>\n",
       "      <td>2015/2016</td>\n",
       "      <td>Leicester City</td>\n",
       "      <td>81.0</td>\n",
       "    </tr>\n",
       "  </tbody>\n",
       "</table>\n",
       "</div>"
      ],
      "text/plain": [
       "       season               team  points\n",
       "0   2008/2009  Manchester United    90.0\n",
       "4   2009/2010            Chelsea    86.0\n",
       "8   2010/2011  Manchester United    80.0\n",
       "12  2011/2012    Manchester City    89.0\n",
       "13  2011/2012  Manchester United    89.0\n",
       "16  2012/2013  Manchester United    89.0\n",
       "20  2013/2014    Manchester City    86.0\n",
       "24  2014/2015            Chelsea    87.0\n",
       "28  2015/2016     Leicester City    81.0"
      ]
     },
     "execution_count": 15,
     "metadata": {},
     "output_type": "execute_result"
    }
   ],
   "source": [
    "top_four.groupby(['season'], sort=False)['points'].max()\n",
    "idx = top_four.groupby(['season'])['points'].transform(max) == top_four['points'] \n",
    "champions = top_four[idx][['season','team','points']]\n",
    "champions"
   ]
  },
  {
   "attachments": {},
   "cell_type": "markdown",
   "metadata": {},
   "source": [
    "## Here we found that in 2011/2012 season both MCI and MNU had the same points\n",
    "### to specify the winner we should calculated the goal difference\n",
    "### What's the goal difference between MCI and MNU in 2011/2012 season?"
   ]
  },
  {
   "cell_type": "code",
   "execution_count": 16,
   "metadata": {},
   "outputs": [
    {
     "data": {
      "image/png": "[encoded data removed]",
      "text/plain": [
       "<Figure size 432x288 with 1 Axes>"
      ]
     },
     "metadata": {},
     "output_type": "display_data"
    }
   ],
   "source": [
    "goals_to_MNU = df.query('home_team == \"Manchester United\" and season ==\"2011/2012\"').groupby('season').home_team_goal.sum() + df.query('away_team == \"Manchester United\" and season ==\"2011/2012\"').groupby('season').away_team_goal.sum()\n",
    "goals_to_MCI = df.query('home_team == \"Manchester City\" and season ==\"2011/2012\"').groupby('season').home_team_goal.sum() + df.query('away_team == \"Manchester City\" and season ==\"2011/2012\"').groupby('season').away_team_goal.sum()\n",
    "goals_against_MNU = df.query('away_team == \"Manchester United\" and season ==\"2011/2012\"').groupby('season').home_team_goal.sum() + df.query('home_team == \"Manchester United\" and season ==\"2011/2012\"').groupby('season').away_team_goal.sum()\n",
    "goasl_against_MCI = df.query('away_team == \"Manchester City\" and season ==\"2011/2012\"').groupby('season').home_team_goal.sum() + df.query('home_team == \"Manchester City\" and season ==\"2011/2012\"').groupby('season').away_team_goal.sum()\n",
    "MNU_goal_diff = goals_to_MNU - goals_against_MNU\n",
    "MCI_goal_diff = goals_to_MCI - goasl_against_MCI\n",
    "locations = [1, 2]\n",
    "heights = [MNU_goal_diff[0], MCI_goal_diff[0]]\n",
    "labels = ['MNU', 'MCI']\n",
    "plt.bar(locations, heights, tick_label=labels)\n",
    "plt.title('teams Vs Goal Difference');\n",
    "champions\n",
    "plt.xlabel('team')\n",
    "plt.ylabel('goal difference');"
   ]
  },
  {
   "attachments": {},
   "cell_type": "markdown",
   "metadata": {},
   "source": [
    "> ##### as we notice that the goal difference is greater in MCI case, that's how they won 2011/2012 premier league season"
   ]
  },
  {
   "attachments": {},
   "cell_type": "markdown",
   "metadata": {},
   "source": [
    "### Let's now see: \n",
    "#### how many times each team won the premier league?"
   ]
  },
  {
   "cell_type": "code",
   "execution_count": 17,
   "metadata": {},
   "outputs": [
    {
     "data": {
      "image/png": "[encoded data removed]",
      "text/plain": [
       "<Figure size 432x288 with 1 Axes>"
      ]
     },
     "metadata": {},
     "output_type": "display_data"
    }
   ],
   "source": [
    "MNU_drop = champions[(champions['season'] == \"2011/2012\") & (champions['team'] == \"Manchester United\")].index\n",
    "MCI_drop = champions.query('season == \"2011/2012\" and team == \"Manchester City\"').index\n",
    "if MCI_goal_diff[0] > MNU_goal_diff[0]:\n",
    "    champions.drop(MNU_drop, inplace=True)\n",
    "else:\n",
    "    champions.drop(MCI_drop, inplace=True)\n",
    "champions['team'].value_counts().plot(kind='bar')\n",
    "plt.title('champions counts')\n",
    "plt.xlabel('team')\n",
    "plt.ylabel('number of winning');"
   ]
  },
  {
   "attachments": {},
   "cell_type": "markdown",
   "metadata": {},
   "source": [
    "## we can notice that the most four teams enhancing durint the period of our dataset are:\n",
    "* Manchester United\n",
    "* Manchester City\n",
    "* Chelsea\n",
    "* Leicester City"
   ]
  },
  {
   "attachments": {},
   "cell_type": "markdown",
   "metadata": {},
   "source": [
    "# Limitations of Matches/Teams analysis\n",
    "> I only build this analysis on the permier league. but, the exact the same analysis could be used for any other league analysis"
   ]
  },
  {
   "attachments": {},
   "cell_type": "markdown",
   "metadata": {},
   "source": [
    "# Analyazing the Player Table"
   ]
  },
  {
   "cell_type": "markdown",
   "metadata": {},
   "source": [
    "## Gathering Data"
   ]
  },
  {
   "cell_type": "code",
   "execution_count": 18,
   "metadata": {},
   "outputs": [],
   "source": [
    "query = '''SELECT player_name,birthday,weight,height,date,\n",
    "\t   overall_rating,potential,preferred_foot,attacking_work_rate,defensive_work_rate,crossing,finishing,heading_accuracy,short_passing,volleys,dribbling,curve,free_kick_accuracy,long_passing,ball_control,acceleration,sprint_speed,agility,reactions,balance,shot_power,jumping,stamina,strength,long_shots,aggression,interceptions,positioning,vision,penalties,marking,standing_tackle,sliding_tackle,gk_diving,gk_handling,gk_kicking,gk_positioning,gk_reflexes\n",
    "FROM Player AS P, Player_Attributes AS PA\n",
    "WHERE P.player_api_id  = PA.player_api_id\n",
    "'''\n",
    "df = load_data(query)"
   ]
  },
  {
   "cell_type": "markdown",
   "metadata": {},
   "source": [
    "## Data warngling"
   ]
  },
  {
   "cell_type": "code",
   "execution_count": 19,
   "metadata": {},
   "outputs": [
    {
     "data": {
      "text/html": [
       "<div>\n",
       "<style scoped>\n",
       "    .dataframe tbody tr th:only-of-type {\n",
       "        vertical-align: middle;\n",
       "    }\n",
       "\n",
       "    .dataframe tbody tr th {\n",
       "        vertical-align: top;\n",
       "    }\n",
       "\n",
       "    .dataframe thead th {\n",
       "        text-align: right;\n",
       "    }\n",
       "</style>\n",
       "<table border=\"1\" class=\"dataframe\">\n",
       "  <thead>\n",
       "    <tr style=\"text-align: right;\">\n",
       "      <th></th>\n",
       "      <th>player_name</th>\n",
       "      <th>birthday</th>\n",
       "      <th>weight</th>\n",
       "      <th>height</th>\n",
       "      <th>date</th>\n",
       "      <th>overall_rating</th>\n",
       "      <th>potential</th>\n",
       "      <th>preferred_foot</th>\n",
       "      <th>attacking_work_rate</th>\n",
       "      <th>defensive_work_rate</th>\n",
       "      <th>...</th>\n",
       "      <th>vision</th>\n",
       "      <th>penalties</th>\n",
       "      <th>marking</th>\n",
       "      <th>standing_tackle</th>\n",
       "      <th>sliding_tackle</th>\n",
       "      <th>gk_diving</th>\n",
       "      <th>gk_handling</th>\n",
       "      <th>gk_kicking</th>\n",
       "      <th>gk_positioning</th>\n",
       "      <th>gk_reflexes</th>\n",
       "    </tr>\n",
       "  </thead>\n",
       "  <tbody>\n",
       "    <tr>\n",
       "      <th>0</th>\n",
       "      <td>Aaron Appindangoye</td>\n",
       "      <td>1992-02-29 00:00:00</td>\n",
       "      <td>187</td>\n",
       "      <td>182.88</td>\n",
       "      <td>2016-02-18 00:00:00</td>\n",
       "      <td>67.0</td>\n",
       "      <td>71.0</td>\n",
       "      <td>right</td>\n",
       "      <td>medium</td>\n",
       "      <td>medium</td>\n",
       "      <td>...</td>\n",
       "      <td>54.0</td>\n",
       "      <td>48.0</td>\n",
       "      <td>65.0</td>\n",
       "      <td>69.0</td>\n",
       "      <td>69.0</td>\n",
       "      <td>6.0</td>\n",
       "      <td>11.0</td>\n",
       "      <td>10.0</td>\n",
       "      <td>8.0</td>\n",
       "      <td>8.0</td>\n",
       "    </tr>\n",
       "    <tr>\n",
       "      <th>1</th>\n",
       "      <td>Aaron Appindangoye</td>\n",
       "      <td>1992-02-29 00:00:00</td>\n",
       "      <td>187</td>\n",
       "      <td>182.88</td>\n",
       "      <td>2015-11-19 00:00:00</td>\n",
       "      <td>67.0</td>\n",
       "      <td>71.0</td>\n",
       "      <td>right</td>\n",
       "      <td>medium</td>\n",
       "      <td>medium</td>\n",
       "      <td>...</td>\n",
       "      <td>54.0</td>\n",
       "      <td>48.0</td>\n",
       "      <td>65.0</td>\n",
       "      <td>69.0</td>\n",
       "      <td>69.0</td>\n",
       "      <td>6.0</td>\n",
       "      <td>11.0</td>\n",
       "      <td>10.0</td>\n",
       "      <td>8.0</td>\n",
       "      <td>8.0</td>\n",
       "    </tr>\n",
       "    <tr>\n",
       "      <th>2</th>\n",
       "      <td>Aaron Appindangoye</td>\n",
       "      <td>1992-02-29 00:00:00</td>\n",
       "      <td>187</td>\n",
       "      <td>182.88</td>\n",
       "      <td>2015-09-21 00:00:00</td>\n",
       "      <td>62.0</td>\n",
       "      <td>66.0</td>\n",
       "      <td>right</td>\n",
       "      <td>medium</td>\n",
       "      <td>medium</td>\n",
       "      <td>...</td>\n",
       "      <td>54.0</td>\n",
       "      <td>48.0</td>\n",
       "      <td>65.0</td>\n",
       "      <td>66.0</td>\n",
       "      <td>69.0</td>\n",
       "      <td>6.0</td>\n",
       "      <td>11.0</td>\n",
       "      <td>10.0</td>\n",
       "      <td>8.0</td>\n",
       "      <td>8.0</td>\n",
       "    </tr>\n",
       "    <tr>\n",
       "      <th>3</th>\n",
       "      <td>Aaron Appindangoye</td>\n",
       "      <td>1992-02-29 00:00:00</td>\n",
       "      <td>187</td>\n",
       "      <td>182.88</td>\n",
       "      <td>2015-03-20 00:00:00</td>\n",
       "      <td>61.0</td>\n",
       "      <td>65.0</td>\n",
       "      <td>right</td>\n",
       "      <td>medium</td>\n",
       "      <td>medium</td>\n",
       "      <td>...</td>\n",
       "      <td>53.0</td>\n",
       "      <td>47.0</td>\n",
       "      <td>62.0</td>\n",
       "      <td>63.0</td>\n",
       "      <td>66.0</td>\n",
       "      <td>5.0</td>\n",
       "      <td>10.0</td>\n",
       "      <td>9.0</td>\n",
       "      <td>7.0</td>\n",
       "      <td>7.0</td>\n",
       "    </tr>\n",
       "    <tr>\n",
       "      <th>4</th>\n",
       "      <td>Aaron Appindangoye</td>\n",
       "      <td>1992-02-29 00:00:00</td>\n",
       "      <td>187</td>\n",
       "      <td>182.88</td>\n",
       "      <td>2007-02-22 00:00:00</td>\n",
       "      <td>61.0</td>\n",
       "      <td>65.0</td>\n",
       "      <td>right</td>\n",
       "      <td>medium</td>\n",
       "      <td>medium</td>\n",
       "      <td>...</td>\n",
       "      <td>53.0</td>\n",
       "      <td>47.0</td>\n",
       "      <td>62.0</td>\n",
       "      <td>63.0</td>\n",
       "      <td>66.0</td>\n",
       "      <td>5.0</td>\n",
       "      <td>10.0</td>\n",
       "      <td>9.0</td>\n",
       "      <td>7.0</td>\n",
       "      <td>7.0</td>\n",
       "    </tr>\n",
       "  </tbody>\n",
       "</table>\n",
       "<p>5 rows × 43 columns</p>\n",
       "</div>"
      ],
      "text/plain": [
       "          player_name             birthday  weight  height  \\\n",
       "0  Aaron Appindangoye  1992-02-29 00:00:00     187  182.88   \n",
       "1  Aaron Appindangoye  1992-02-29 00:00:00     187  182.88   \n",
       "2  Aaron Appindangoye  1992-02-29 00:00:00     187  182.88   \n",
       "3  Aaron Appindangoye  1992-02-29 00:00:00     187  182.88   \n",
       "4  Aaron Appindangoye  1992-02-29 00:00:00     187  182.88   \n",
       "\n",
       "                  date  overall_rating  potential preferred_foot  \\\n",
       "0  2016-02-18 00:00:00            67.0       71.0          right   \n",
       "1  2015-11-19 00:00:00            67.0       71.0          right   \n",
       "2  2015-09-21 00:00:00            62.0       66.0          right   \n",
       "3  2015-03-20 00:00:00            61.0       65.0          right   \n",
       "4  2007-02-22 00:00:00            61.0       65.0          right   \n",
       "\n",
       "  attacking_work_rate defensive_work_rate  ...  vision  penalties  marking  \\\n",
       "0              medium              medium  ...    54.0       48.0     65.0   \n",
       "1              medium              medium  ...    54.0       48.0     65.0   \n",
       "2              medium              medium  ...    54.0       48.0     65.0   \n",
       "3              medium              medium  ...    53.0       47.0     62.0   \n",
       "4              medium              medium  ...    53.0       47.0     62.0   \n",
       "\n",
       "   standing_tackle  sliding_tackle  gk_diving  gk_handling  gk_kicking  \\\n",
       "0             69.0            69.0        6.0         11.0        10.0   \n",
       "1             69.0            69.0        6.0         11.0        10.0   \n",
       "2             66.0            69.0        6.0         11.0        10.0   \n",
       "3             63.0            66.0        5.0         10.0         9.0   \n",
       "4             63.0            66.0        5.0         10.0         9.0   \n",
       "\n",
       "   gk_positioning  gk_reflexes  \n",
       "0             8.0          8.0  \n",
       "1             8.0          8.0  \n",
       "2             8.0          8.0  \n",
       "3             7.0          7.0  \n",
       "4             7.0          7.0  \n",
       "\n",
       "[5 rows x 43 columns]"
      ]
     },
     "execution_count": 19,
     "metadata": {},
     "output_type": "execute_result"
    }
   ],
   "source": [
    "df.isnull().sum()\n",
    "df.duplicated().sum()\n",
    "df.dtypes\n",
    "df.shape\n",
    "df.head()"
   ]
  },
  {
   "cell_type": "markdown",
   "metadata": {},
   "source": [
    "## Clean the Dataset"
   ]
  },
  {
   "cell_type": "code",
   "execution_count": 20,
   "metadata": {},
   "outputs": [
    {
     "data": {
      "text/plain": [
       "(183978, 43)"
      ]
     },
     "execution_count": 20,
     "metadata": {},
     "output_type": "execute_result"
    }
   ],
   "source": [
    "df.dropna()\n",
    "df.drop_duplicates()\n",
    "# getting the date column in the correct date Data type\n",
    "df['date'] = pd.to_datetime(df['date'])\n",
    "df.head()\n",
    "df.shape"
   ]
  },
  {
   "cell_type": "markdown",
   "metadata": {},
   "source": [
    "# Exploratory Data Analysis"
   ]
  },
  {
   "cell_type": "markdown",
   "metadata": {},
   "source": [
    "## Let's figure out what makes a perfect player"
   ]
  },
  {
   "cell_type": "markdown",
   "metadata": {},
   "source": [
    "#### first: Let's get the top 10 players according to the overall_rating and the mean of their relative attribute\n"
   ]
  },
  {
   "cell_type": "code",
   "execution_count": 21,
   "metadata": {},
   "outputs": [
    {
     "name": "stderr",
     "output_type": "stream",
     "text": [
      "/home/elieba/.local/lib/python3.6/site-packages/ipykernel_launcher.py:14: FutureWarning: Indexing with multiple keys (implicitly converted to a tuple of keys) will be deprecated, use a list instead.\n",
      "  \n"
     ]
    },
    {
     "data": {
      "text/html": [
       "<div>\n",
       "<style scoped>\n",
       "    .dataframe tbody tr th:only-of-type {\n",
       "        vertical-align: middle;\n",
       "    }\n",
       "\n",
       "    .dataframe tbody tr th {\n",
       "        vertical-align: top;\n",
       "    }\n",
       "\n",
       "    .dataframe thead th {\n",
       "        text-align: right;\n",
       "    }\n",
       "</style>\n",
       "<table border=\"1\" class=\"dataframe\">\n",
       "  <thead>\n",
       "    <tr style=\"text-align: right;\">\n",
       "      <th></th>\n",
       "      <th>overall_rating</th>\n",
       "      <th>potential</th>\n",
       "      <th>crossing</th>\n",
       "      <th>finishing</th>\n",
       "      <th>heading_accuracy</th>\n",
       "      <th>short_passing</th>\n",
       "      <th>volleys</th>\n",
       "      <th>dribbling</th>\n",
       "      <th>curve</th>\n",
       "      <th>free_kick_accuracy</th>\n",
       "      <th>...</th>\n",
       "      <th>vision</th>\n",
       "      <th>penalties</th>\n",
       "      <th>marking</th>\n",
       "      <th>standing_tackle</th>\n",
       "      <th>sliding_tackle</th>\n",
       "      <th>gk_diving</th>\n",
       "      <th>gk_handling</th>\n",
       "      <th>gk_kicking</th>\n",
       "      <th>gk_positioning</th>\n",
       "      <th>gk_reflexes</th>\n",
       "    </tr>\n",
       "    <tr>\n",
       "      <th>player_name</th>\n",
       "      <th></th>\n",
       "      <th></th>\n",
       "      <th></th>\n",
       "      <th></th>\n",
       "      <th></th>\n",
       "      <th></th>\n",
       "      <th></th>\n",
       "      <th></th>\n",
       "      <th></th>\n",
       "      <th></th>\n",
       "      <th></th>\n",
       "      <th></th>\n",
       "      <th></th>\n",
       "      <th></th>\n",
       "      <th></th>\n",
       "      <th></th>\n",
       "      <th></th>\n",
       "      <th></th>\n",
       "      <th></th>\n",
       "      <th></th>\n",
       "      <th></th>\n",
       "    </tr>\n",
       "  </thead>\n",
       "  <tbody>\n",
       "    <tr>\n",
       "      <th>Andres Iniesta</th>\n",
       "      <td>88.320000</td>\n",
       "      <td>90.560000</td>\n",
       "      <td>83.720000</td>\n",
       "      <td>72.680000</td>\n",
       "      <td>55.320000</td>\n",
       "      <td>93.880000</td>\n",
       "      <td>74.000000</td>\n",
       "      <td>90.080000</td>\n",
       "      <td>80.000000</td>\n",
       "      <td>69.280000</td>\n",
       "      <td>...</td>\n",
       "      <td>92.920000</td>\n",
       "      <td>71.120000</td>\n",
       "      <td>58.240000</td>\n",
       "      <td>59.680000</td>\n",
       "      <td>56.000000</td>\n",
       "      <td>6.760000</td>\n",
       "      <td>14.720000</td>\n",
       "      <td>26.040000</td>\n",
       "      <td>14.520000</td>\n",
       "      <td>10.000000</td>\n",
       "    </tr>\n",
       "    <tr>\n",
       "      <th>Arjen Robben</th>\n",
       "      <td>87.840000</td>\n",
       "      <td>88.600000</td>\n",
       "      <td>82.480000</td>\n",
       "      <td>82.160000</td>\n",
       "      <td>51.560000</td>\n",
       "      <td>84.520000</td>\n",
       "      <td>84.480000</td>\n",
       "      <td>92.640000</td>\n",
       "      <td>84.800000</td>\n",
       "      <td>83.120000</td>\n",
       "      <td>...</td>\n",
       "      <td>82.400000</td>\n",
       "      <td>81.480000</td>\n",
       "      <td>26.240000</td>\n",
       "      <td>24.480000</td>\n",
       "      <td>25.240000</td>\n",
       "      <td>9.280000</td>\n",
       "      <td>10.680000</td>\n",
       "      <td>26.360000</td>\n",
       "      <td>8.760000</td>\n",
       "      <td>16.320000</td>\n",
       "    </tr>\n",
       "    <tr>\n",
       "      <th>Cristiano Ronaldo</th>\n",
       "      <td>91.280000</td>\n",
       "      <td>93.480000</td>\n",
       "      <td>83.880000</td>\n",
       "      <td>91.120000</td>\n",
       "      <td>85.520000</td>\n",
       "      <td>82.280000</td>\n",
       "      <td>85.560000</td>\n",
       "      <td>92.640000</td>\n",
       "      <td>88.000000</td>\n",
       "      <td>81.640000</td>\n",
       "      <td>...</td>\n",
       "      <td>80.680000</td>\n",
       "      <td>83.600000</td>\n",
       "      <td>22.120000</td>\n",
       "      <td>30.840000</td>\n",
       "      <td>23.000000</td>\n",
       "      <td>7.480000</td>\n",
       "      <td>12.960000</td>\n",
       "      <td>28.440000</td>\n",
       "      <td>15.160000</td>\n",
       "      <td>12.760000</td>\n",
       "    </tr>\n",
       "    <tr>\n",
       "      <th>Franck Ribery</th>\n",
       "      <td>88.458333</td>\n",
       "      <td>89.916667</td>\n",
       "      <td>85.166667</td>\n",
       "      <td>77.750000</td>\n",
       "      <td>48.541667</td>\n",
       "      <td>87.791667</td>\n",
       "      <td>82.041667</td>\n",
       "      <td>92.916667</td>\n",
       "      <td>86.833333</td>\n",
       "      <td>81.750000</td>\n",
       "      <td>...</td>\n",
       "      <td>86.958333</td>\n",
       "      <td>81.500000</td>\n",
       "      <td>18.708333</td>\n",
       "      <td>25.083333</td>\n",
       "      <td>26.000000</td>\n",
       "      <td>13.333333</td>\n",
       "      <td>8.541667</td>\n",
       "      <td>22.833333</td>\n",
       "      <td>9.500000</td>\n",
       "      <td>11.708333</td>\n",
       "    </tr>\n",
       "    <tr>\n",
       "      <th>Iker Casillas</th>\n",
       "      <td>86.954545</td>\n",
       "      <td>88.227273</td>\n",
       "      <td>16.136364</td>\n",
       "      <td>14.454545</td>\n",
       "      <td>19.454545</td>\n",
       "      <td>21.000000</td>\n",
       "      <td>13.136364</td>\n",
       "      <td>19.590909</td>\n",
       "      <td>16.727273</td>\n",
       "      <td>16.681818</td>\n",
       "      <td>...</td>\n",
       "      <td>49.000000</td>\n",
       "      <td>43.090909</td>\n",
       "      <td>14.772727</td>\n",
       "      <td>14.772727</td>\n",
       "      <td>11.727273</td>\n",
       "      <td>89.863636</td>\n",
       "      <td>82.045455</td>\n",
       "      <td>69.409091</td>\n",
       "      <td>84.409091</td>\n",
       "      <td>90.954545</td>\n",
       "    </tr>\n",
       "    <tr>\n",
       "      <th>Lionel Messi</th>\n",
       "      <td>92.192308</td>\n",
       "      <td>95.230769</td>\n",
       "      <td>83.346154</td>\n",
       "      <td>92.230769</td>\n",
       "      <td>69.269231</td>\n",
       "      <td>88.807692</td>\n",
       "      <td>87.538462</td>\n",
       "      <td>96.461538</td>\n",
       "      <td>87.692308</td>\n",
       "      <td>84.115385</td>\n",
       "      <td>...</td>\n",
       "      <td>90.269231</td>\n",
       "      <td>80.153846</td>\n",
       "      <td>18.769231</td>\n",
       "      <td>21.846154</td>\n",
       "      <td>20.115385</td>\n",
       "      <td>6.461538</td>\n",
       "      <td>12.653846</td>\n",
       "      <td>29.461538</td>\n",
       "      <td>15.076923</td>\n",
       "      <td>10.615385</td>\n",
       "    </tr>\n",
       "    <tr>\n",
       "      <th>Philipp Lahm</th>\n",
       "      <td>86.733333</td>\n",
       "      <td>87.533333</td>\n",
       "      <td>85.400000</td>\n",
       "      <td>43.266667</td>\n",
       "      <td>62.700000</td>\n",
       "      <td>87.233333</td>\n",
       "      <td>66.000000</td>\n",
       "      <td>81.366667</td>\n",
       "      <td>77.000000</td>\n",
       "      <td>57.500000</td>\n",
       "      <td>...</td>\n",
       "      <td>82.766667</td>\n",
       "      <td>72.233333</td>\n",
       "      <td>85.700000</td>\n",
       "      <td>87.466667</td>\n",
       "      <td>94.366667</td>\n",
       "      <td>10.733333</td>\n",
       "      <td>13.433333</td>\n",
       "      <td>16.266667</td>\n",
       "      <td>15.066667</td>\n",
       "      <td>7.600000</td>\n",
       "    </tr>\n",
       "    <tr>\n",
       "      <th>Wayne Rooney</th>\n",
       "      <td>87.222222</td>\n",
       "      <td>87.944444</td>\n",
       "      <td>78.472222</td>\n",
       "      <td>87.861111</td>\n",
       "      <td>78.583333</td>\n",
       "      <td>83.138889</td>\n",
       "      <td>88.694444</td>\n",
       "      <td>82.694444</td>\n",
       "      <td>83.500000</td>\n",
       "      <td>79.861111</td>\n",
       "      <td>...</td>\n",
       "      <td>84.166667</td>\n",
       "      <td>82.333333</td>\n",
       "      <td>30.750000</td>\n",
       "      <td>51.833333</td>\n",
       "      <td>37.777778</td>\n",
       "      <td>10.138889</td>\n",
       "      <td>12.000000</td>\n",
       "      <td>21.861111</td>\n",
       "      <td>9.527778</td>\n",
       "      <td>8.694444</td>\n",
       "    </tr>\n",
       "    <tr>\n",
       "      <th>Xavi Hernandez</th>\n",
       "      <td>87.636364</td>\n",
       "      <td>88.363636</td>\n",
       "      <td>86.090909</td>\n",
       "      <td>73.590909</td>\n",
       "      <td>54.727273</td>\n",
       "      <td>95.181818</td>\n",
       "      <td>67.545455</td>\n",
       "      <td>82.363636</td>\n",
       "      <td>84.363636</td>\n",
       "      <td>86.681818</td>\n",
       "      <td>...</td>\n",
       "      <td>95.681818</td>\n",
       "      <td>78.227273</td>\n",
       "      <td>55.863636</td>\n",
       "      <td>64.545455</td>\n",
       "      <td>62.272727</td>\n",
       "      <td>5.727273</td>\n",
       "      <td>16.136364</td>\n",
       "      <td>30.227273</td>\n",
       "      <td>8.363636</td>\n",
       "      <td>11.409091</td>\n",
       "    </tr>\n",
       "    <tr>\n",
       "      <th>Zlatan Ibrahimovic</th>\n",
       "      <td>88.285714</td>\n",
       "      <td>90.047619</td>\n",
       "      <td>72.380952</td>\n",
       "      <td>90.000000</td>\n",
       "      <td>79.714286</td>\n",
       "      <td>84.238095</td>\n",
       "      <td>90.047619</td>\n",
       "      <td>89.380952</td>\n",
       "      <td>80.952381</td>\n",
       "      <td>81.380952</td>\n",
       "      <td>...</td>\n",
       "      <td>82.619048</td>\n",
       "      <td>88.000000</td>\n",
       "      <td>20.904762</td>\n",
       "      <td>43.809524</td>\n",
       "      <td>26.809524</td>\n",
       "      <td>12.666667</td>\n",
       "      <td>17.142857</td>\n",
       "      <td>24.714286</td>\n",
       "      <td>13.238095</td>\n",
       "      <td>15.142857</td>\n",
       "    </tr>\n",
       "  </tbody>\n",
       "</table>\n",
       "<p>10 rows × 35 columns</p>\n",
       "</div>"
      ],
      "text/plain": [
       "                    overall_rating  potential   crossing  finishing  \\\n",
       "player_name                                                           \n",
       "Andres Iniesta           88.320000  90.560000  83.720000  72.680000   \n",
       "Arjen Robben             87.840000  88.600000  82.480000  82.160000   \n",
       "Cristiano Ronaldo        91.280000  93.480000  83.880000  91.120000   \n",
       "Franck Ribery            88.458333  89.916667  85.166667  77.750000   \n",
       "Iker Casillas            86.954545  88.227273  16.136364  14.454545   \n",
       "Lionel Messi             92.192308  95.230769  83.346154  92.230769   \n",
       "Philipp Lahm             86.733333  87.533333  85.400000  43.266667   \n",
       "Wayne Rooney             87.222222  87.944444  78.472222  87.861111   \n",
       "Xavi Hernandez           87.636364  88.363636  86.090909  73.590909   \n",
       "Zlatan Ibrahimovic       88.285714  90.047619  72.380952  90.000000   \n",
       "\n",
       "                    heading_accuracy  short_passing    volleys  dribbling  \\\n",
       "player_name                                                                 \n",
       "Andres Iniesta             55.320000      93.880000  74.000000  90.080000   \n",
       "Arjen Robben               51.560000      84.520000  84.480000  92.640000   \n",
       "Cristiano Ronaldo          85.520000      82.280000  85.560000  92.640000   \n",
       "Franck Ribery              48.541667      87.791667  82.041667  92.916667   \n",
       "Iker Casillas              19.454545      21.000000  13.136364  19.590909   \n",
       "Lionel Messi               69.269231      88.807692  87.538462  96.461538   \n",
       "Philipp Lahm               62.700000      87.233333  66.000000  81.366667   \n",
       "Wayne Rooney               78.583333      83.138889  88.694444  82.694444   \n",
       "Xavi Hernandez             54.727273      95.181818  67.545455  82.363636   \n",
       "Zlatan Ibrahimovic         79.714286      84.238095  90.047619  89.380952   \n",
       "\n",
       "                        curve  free_kick_accuracy  ...     vision  penalties  \\\n",
       "player_name                                        ...                         \n",
       "Andres Iniesta      80.000000           69.280000  ...  92.920000  71.120000   \n",
       "Arjen Robben        84.800000           83.120000  ...  82.400000  81.480000   \n",
       "Cristiano Ronaldo   88.000000           81.640000  ...  80.680000  83.600000   \n",
       "Franck Ribery       86.833333           81.750000  ...  86.958333  81.500000   \n",
       "Iker Casillas       16.727273           16.681818  ...  49.000000  43.090909   \n",
       "Lionel Messi        87.692308           84.115385  ...  90.269231  80.153846   \n",
       "Philipp Lahm        77.000000           57.500000  ...  82.766667  72.233333   \n",
       "Wayne Rooney        83.500000           79.861111  ...  84.166667  82.333333   \n",
       "Xavi Hernandez      84.363636           86.681818  ...  95.681818  78.227273   \n",
       "Zlatan Ibrahimovic  80.952381           81.380952  ...  82.619048  88.000000   \n",
       "\n",
       "                      marking  standing_tackle  sliding_tackle  gk_diving  \\\n",
       "player_name                                                                 \n",
       "Andres Iniesta      58.240000        59.680000       56.000000   6.760000   \n",
       "Arjen Robben        26.240000        24.480000       25.240000   9.280000   \n",
       "Cristiano Ronaldo   22.120000        30.840000       23.000000   7.480000   \n",
       "Franck Ribery       18.708333        25.083333       26.000000  13.333333   \n",
       "Iker Casillas       14.772727        14.772727       11.727273  89.863636   \n",
       "Lionel Messi        18.769231        21.846154       20.115385   6.461538   \n",
       "Philipp Lahm        85.700000        87.466667       94.366667  10.733333   \n",
       "Wayne Rooney        30.750000        51.833333       37.777778  10.138889   \n",
       "Xavi Hernandez      55.863636        64.545455       62.272727   5.727273   \n",
       "Zlatan Ibrahimovic  20.904762        43.809524       26.809524  12.666667   \n",
       "\n",
       "                    gk_handling  gk_kicking  gk_positioning  gk_reflexes  \n",
       "player_name                                                               \n",
       "Andres Iniesta        14.720000   26.040000       14.520000    10.000000  \n",
       "Arjen Robben          10.680000   26.360000        8.760000    16.320000  \n",
       "Cristiano Ronaldo     12.960000   28.440000       15.160000    12.760000  \n",
       "Franck Ribery          8.541667   22.833333        9.500000    11.708333  \n",
       "Iker Casillas         82.045455   69.409091       84.409091    90.954545  \n",
       "Lionel Messi          12.653846   29.461538       15.076923    10.615385  \n",
       "Philipp Lahm          13.433333   16.266667       15.066667     7.600000  \n",
       "Wayne Rooney          12.000000   21.861111        9.527778     8.694444  \n",
       "Xavi Hernandez        16.136364   30.227273        8.363636    11.409091  \n",
       "Zlatan Ibrahimovic    17.142857   24.714286       13.238095    15.142857  \n",
       "\n",
       "[10 rows x 35 columns]"
      ]
     },
     "execution_count": 21,
     "metadata": {},
     "output_type": "execute_result"
    }
   ],
   "source": [
    "top_players = df.groupby('player_name').overall_rating.mean().sort_values(ascending=False).head(10)\n",
    "record = pd.DataFrame()\n",
    "for player in top_players.index:\n",
    "    record = record.append(df[df['player_name']==player], ignore_index=False)\n",
    "record.columns\n",
    "top = record.groupby('player_name')['overall_rating',\n",
    "       'potential', 'crossing', 'finishing', 'heading_accuracy',\n",
    "       'short_passing', 'volleys', 'dribbling', 'curve', 'free_kick_accuracy',\n",
    "       'long_passing', 'ball_control', 'acceleration', 'sprint_speed',\n",
    "       'agility', 'reactions', 'balance', 'shot_power', 'jumping', 'stamina',\n",
    "       'strength', 'long_shots', 'aggression', 'interceptions', 'positioning',\n",
    "       'vision', 'penalties', 'marking', 'standing_tackle', 'sliding_tackle',\n",
    "       'gk_diving', 'gk_handling', 'gk_kicking', 'gk_positioning',\n",
    "       'gk_reflexes'].mean()\n",
    "top"
   ]
  },
  {
   "attachments": {},
   "cell_type": "markdown",
   "metadata": {},
   "source": [
    "#### Let's now establish a correlation matrix between the overall_rating and the other relative attributes, to answer the below question:\n",
    "#### What makes a perfect player?"
   ]
  },
  {
   "cell_type": "code",
   "execution_count": 22,
   "metadata": {},
   "outputs": [
    {
     "data": {
      "image/png": "[encoded data removed]",
      "text/plain": [
       "<Figure size 1440x1152 with 2 Axes>"
      ]
     },
     "metadata": {},
     "output_type": "display_data"
    }
   ],
   "source": [
    "def draw_correlation():\n",
    "    correlation_matrix = top.corr()[0:1]\n",
    "    plt.figure(figsize=(20, 16))\n",
    "    sns.heatmap(correlation_matrix,annot=True)\n",
    "    plt.title('attributes makes a perfect player')\n",
    "    plt.xlabel('attributes')\n",
    "draw_correlation()"
   ]
  },
  {
   "attachments": {},
   "cell_type": "markdown",
   "metadata": {},
   "source": [
    "### for better analysis we can exclude Iker Casillas and the columns related to goal keeping from our analysis and draw our correlation matrix again\n",
    "> ## being a goal keeper he would represent outlier in our dataset\n",
    "#### as we notice that the goal keeper attributes negatively correlated with the overall rating which is not true for a goal keeper"
   ]
  },
  {
   "cell_type": "code",
   "execution_count": 23,
   "metadata": {},
   "outputs": [
    {
     "data": {
      "image/png": "[encoded data removed]",
      "text/plain": [
       "<Figure size 1440x1152 with 2 Axes>"
      ]
     },
     "metadata": {},
     "output_type": "display_data"
    }
   ],
   "source": [
    "top.drop(\"Iker Casillas\", axis=0, inplace=True)\n",
    "top.drop(columns=['gk_diving', 'gk_handling', 'gk_kicking', 'gk_positioning',\n",
    "       'gk_reflexes'],inplace=True)\n",
    "draw_correlation()"
   ]
  },
  {
   "cell_type": "markdown",
   "metadata": {},
   "source": [
    "# Conclusion"
   ]
  },
  {
   "attachments": {},
   "cell_type": "markdown",
   "metadata": {},
   "source": [
    ">   The above heatmap shows us the attributes correlation with overall_rating from the most positive to the most negative attribute we can also print them with correlation value as the below cell"
   ]
  },
  {
   "attachments": {},
   "cell_type": "markdown",
   "metadata": {},
   "source": [
    "## Now we have the attributes that can make a perfect player\n",
    "### by showing the correlation from the most positive to the most negative"
   ]
  },
  {
   "cell_type": "code",
   "execution_count": 24,
   "metadata": {},
   "outputs": [
    {
     "data": {
      "text/plain": [
       "overall_rating      overall_rating    1.000000\n",
       "potential           overall_rating    0.986883\n",
       "ball_control        overall_rating    0.788954\n",
       "dribbling           overall_rating    0.769039\n",
       "agility             overall_rating    0.742838\n",
       "curve               overall_rating    0.700646\n",
       "acceleration        overall_rating    0.650422\n",
       "sprint_speed        overall_rating    0.637548\n",
       "finishing           overall_rating    0.601488\n",
       "long_shots          overall_rating    0.580676\n",
       "positioning         overall_rating    0.550857\n",
       "volleys             overall_rating    0.463584\n",
       "free_kick_accuracy  overall_rating    0.411951\n",
       "shot_power          overall_rating    0.410595\n",
       "heading_accuracy    overall_rating    0.379050\n",
       "jumping             overall_rating    0.366926\n",
       "penalties           overall_rating    0.277970\n",
       "reactions           overall_rating    0.251215\n",
       "crossing            overall_rating    0.093591\n",
       "stamina             overall_rating    0.065301\n",
       "balance             overall_rating    0.046515\n",
       "vision              overall_rating    0.022444\n",
       "strength            overall_rating   -0.021658\n",
       "short_passing       overall_rating   -0.129080\n",
       "aggression          overall_rating   -0.296443\n",
       "long_passing        overall_rating   -0.344891\n",
       "marking             overall_rating   -0.562865\n",
       "sliding_tackle      overall_rating   -0.611954\n",
       "standing_tackle     overall_rating   -0.650216\n",
       "interceptions       overall_rating   -0.654913\n",
       "dtype: float64"
      ]
     },
     "execution_count": 24,
     "metadata": {},
     "output_type": "execute_result"
    }
   ],
   "source": [
    "\n",
    "top.corr()[0:1].unstack().sort_values(ascending=False)"
   ]
  },
  {
   "cell_type": "markdown",
   "metadata": {},
   "source": [
    "# Limitations"
   ]
  },
  {
   "attachments": {},
   "cell_type": "markdown",
   "metadata": {},
   "source": [
    "> The above analysis is build over players not goal keepers, but we can use the same analysis with goal keepers related attributes to see what makes a perfect goal keeper."
   ]
  }
 ],
 "metadata": {
  "kernelspec": {
   "display_name": "Python 3",
   "language": "python",
   "name": "python3"
  },
  "language_info": {
   "codemirror_mode": {
    "name": "ipython",
    "version": 3
   },
   "file_extension": ".py",
   "mimetype": "text/x-python",
   "name": "python",
   "nbconvert_exporter": "python",
   "pygments_lexer": "ipython3",
   "version": "3.6.8"
  },
  "orig_nbformat": 4,
  "vscode": {
   "interpreter": {
    "hash": "916dbcbb3f70747c44a77c7bcd40155683ae19c65e1c03b4aa3499c5328201f1"
   }
  }
 },
 "nbformat": 4,
 "nbformat_minor": 2
}
